{
 "cells": [
  {
   "cell_type": "code",
   "execution_count": 18,
   "metadata": {},
   "outputs": [],
   "source": [
    "import os\n",
    "os.environ['TF_CPP_MIN_LOG_LEVEL'] = '2'"
   ]
  },
  {
   "cell_type": "code",
   "execution_count": 19,
   "metadata": {},
   "outputs": [],
   "source": [
    "import tensorflow as tf \n",
    "from tensorflow import keras\n",
    "from tensorflow.keras import layers, regularizers\n",
    "from tensorflow.keras.datasets import mnist"
   ]
  },
  {
   "cell_type": "code",
   "execution_count": 20,
   "metadata": {},
   "outputs": [],
   "source": [
    "(x_train, y_train), (x_test, y_test) = mnist.load_data()\n",
    "x_train = x_train.astype(\"float32\")/255.0\n",
    "x_test = x_test.astype(\"float32\")/255.0"
   ]
  },
  {
   "cell_type": "code",
   "execution_count": 21,
   "metadata": {},
   "outputs": [
    {
     "name": "stdout",
     "output_type": "stream",
     "text": [
      "Model: \"sequential_7\"\n",
      "_________________________________________________________________\n",
      " Layer (type)                Output Shape              Param #   \n",
      "=================================================================\n",
      " simple_rnn_3 (SimpleRNN)    (None, None, 512)         276992    \n",
      "                                                                 \n",
      " simple_rnn_4 (SimpleRNN)    (None, 512)               524800    \n",
      "                                                                 \n",
      " dense_2 (Dense)             (None, 10)                5130      \n",
      "                                                                 \n",
      "=================================================================\n",
      "Total params: 806922 (3.08 MB)\n",
      "Trainable params: 806922 (3.08 MB)\n",
      "Non-trainable params: 0 (0.00 Byte)\n",
      "_________________________________________________________________\n"
     ]
    }
   ],
   "source": [
    "model = keras.Sequential()\n",
    "model.add(keras.Input(shape=(None,28)))\n",
    "model.add(\n",
    "    layers.SimpleRNN(512, return_sequences=True, activation='relu')\n",
    ")\n",
    "model.add(layers.SimpleRNN(512, activation='relu'))\n",
    "model.add(layers.Dense(10))\n",
    "model.summary()"
   ]
  },
  {
   "cell_type": "code",
   "execution_count": 22,
   "metadata": {},
   "outputs": [],
   "source": [
    "model = keras.Sequential()\n",
    "model.add(keras.Input(shape=(None, 28)))\n",
    "model.add(layers.SimpleRNN(256, return_sequences=True, activation=\"tanh\"))\n",
    "model.add(layers.SimpleRNN(256))\n",
    "model.add(layers.Dense(10))"
   ]
  },
  {
   "cell_type": "code",
   "execution_count": 24,
   "metadata": {},
   "outputs": [],
   "source": [
    "model = keras.Sequential()\n",
    "model.add(keras.Input(shape=(None, 28)))\n",
    "model.add(layers.GRU(256, return_sequences=True, activation=\"tanh\"))\n",
    "model.add(layers.GRU(256))\n",
    "model.add(layers.Dense(10))"
   ]
  },
  {
   "cell_type": "code",
   "execution_count": 29,
   "metadata": {},
   "outputs": [],
   "source": [
    "model = keras.Sequential()\n",
    "model.add(keras.Input(shape=(None, 28)))\n",
    "model.add(layers.LSTM(256, return_sequences=True, activation=\"tanh\"))\n",
    "model.add(layers.LSTM(256))\n",
    "model.add(layers.Dense(10))"
   ]
  },
  {
   "cell_type": "code",
   "execution_count": 33,
   "metadata": {},
   "outputs": [],
   "source": [
    "model = keras.Sequential()\n",
    "model.add(keras.Input(shape=(None, 28)))\n",
    "model.add(layers.Bidirectional(layers.LSTM(256, return_sequences=True, activation=\"tanh\")))\n",
    "model.add(layers.Bidirectional(layers.LSTM(256)))\n",
    "model.add(layers.Dense(10))"
   ]
  },
  {
   "cell_type": "code",
   "execution_count": 34,
   "metadata": {},
   "outputs": [
    {
     "name": "stdout",
     "output_type": "stream",
     "text": [
      "Model: \"sequential_12\"\n",
      "_________________________________________________________________\n",
      " Layer (type)                Output Shape              Param #   \n",
      "=================================================================\n",
      " bidirectional (Bidirection  (None, None, 512)         583680    \n",
      " al)                                                             \n",
      "                                                                 \n",
      " bidirectional_1 (Bidirecti  (None, 512)               1574912   \n",
      " onal)                                                           \n",
      "                                                                 \n",
      " dense_7 (Dense)             (None, 10)                5130      \n",
      "                                                                 \n",
      "=================================================================\n",
      "Total params: 2163722 (8.25 MB)\n",
      "Trainable params: 2163722 (8.25 MB)\n",
      "Non-trainable params: 0 (0.00 Byte)\n",
      "_________________________________________________________________\n"
     ]
    },
    {
     "name": "stderr",
     "output_type": "stream",
     "text": [
      "WARNING:absl:`lr` is deprecated in Keras optimizer, please use `learning_rate` or use the legacy optimizer, e.g.,tf.keras.optimizers.legacy.Adam.\n"
     ]
    },
    {
     "name": "stdout",
     "output_type": "stream",
     "text": [
      "None\n"
     ]
    }
   ],
   "source": [
    "print(model.summary())\n",
    "model.compile(\n",
    "    loss=keras.losses.SparseCategoricalCrossentropy(from_logits=True),\n",
    "    optimizer=keras.optimizers.Adam(lr=0.001),\n",
    "    metrics=[\"accuracy\"],\n",
    ")"
   ]
  },
  {
   "cell_type": "code",
   "execution_count": 35,
   "metadata": {},
   "outputs": [
    {
     "name": "stdout",
     "output_type": "stream",
     "text": [
      "Epoch 1/10\n",
      "938/938 - 22s - loss: 0.2684 - accuracy: 0.9114 - 22s/epoch - 24ms/step\n",
      "Epoch 2/10\n",
      "938/938 - 19s - loss: 0.0722 - accuracy: 0.9782 - 19s/epoch - 20ms/step\n",
      "Epoch 3/10\n",
      "938/938 - 18s - loss: 0.0500 - accuracy: 0.9841 - 18s/epoch - 20ms/step\n",
      "Epoch 4/10\n",
      "938/938 - 18s - loss: 0.0424 - accuracy: 0.9870 - 18s/epoch - 19ms/step\n",
      "Epoch 5/10\n",
      "938/938 - 19s - loss: 0.0324 - accuracy: 0.9894 - 19s/epoch - 20ms/step\n",
      "Epoch 6/10\n",
      "938/938 - 19s - loss: 0.0282 - accuracy: 0.9912 - 19s/epoch - 20ms/step\n",
      "Epoch 7/10\n",
      "938/938 - 19s - loss: 0.0235 - accuracy: 0.9927 - 19s/epoch - 20ms/step\n",
      "Epoch 8/10\n",
      "938/938 - 19s - loss: 0.0227 - accuracy: 0.9928 - 19s/epoch - 20ms/step\n",
      "Epoch 9/10\n",
      "938/938 - 18s - loss: 0.0181 - accuracy: 0.9946 - 18s/epoch - 20ms/step\n",
      "Epoch 10/10\n",
      "938/938 - 19s - loss: 0.0181 - accuracy: 0.9940 - 19s/epoch - 20ms/step\n"
     ]
    },
    {
     "data": {
      "text/plain": [
       "<keras.src.callbacks.History at 0x7ff91bc0aeb0>"
      ]
     },
     "execution_count": 35,
     "metadata": {},
     "output_type": "execute_result"
    }
   ],
   "source": [
    "model.fit(x_train, y_train, batch_size=64, epochs=10, verbose=2)"
   ]
  },
  {
   "cell_type": "code",
   "execution_count": 36,
   "metadata": {},
   "outputs": [
    {
     "name": "stdout",
     "output_type": "stream",
     "text": [
      "157/157 - 3s - loss: 0.0344 - accuracy: 0.9912 - 3s/epoch - 16ms/step\n"
     ]
    },
    {
     "data": {
      "text/plain": [
       "[0.034402910619974136, 0.9911999702453613]"
      ]
     },
     "execution_count": 36,
     "metadata": {},
     "output_type": "execute_result"
    }
   ],
   "source": [
    "model.evaluate(x_test, y_test, batch_size=64, verbose=2)"
   ]
  }
 ],
 "metadata": {
  "kernelspec": {
   "display_name": "tf",
   "language": "python",
   "name": "python3"
  },
  "language_info": {
   "codemirror_mode": {
    "name": "ipython",
    "version": 3
   },
   "file_extension": ".py",
   "mimetype": "text/x-python",
   "name": "python",
   "nbconvert_exporter": "python",
   "pygments_lexer": "ipython3",
   "version": "3.9.17"
  },
  "orig_nbformat": 4
 },
 "nbformat": 4,
 "nbformat_minor": 2
}
